{
  "cells": [
    {
      "cell_type": "markdown",
      "metadata": {
        "id": "Bs0qQXRCSxrS"
      },
      "source": [
        "<a href=\"http://colab.research.google.com/github/dipanjanS/nlp_workshop_odsc19/blob/master/Module05%20-%20NLP%20Applications/Project07D%20-%20Text%20Classification%20Deep%20Transfer%20Learning%20with%20Universal%20Embeddings.ipynb\" target=\"_parent\"><img src=\"https://colab.research.google.com/assets/colab-badge.svg\" alt=\"Open In Colab\"/></a>"
      ]
    },
    {
      "cell_type": "markdown",
      "metadata": {
        "id": "UL1AZuXBspnZ"
      },
      "source": [
        "# Sentiment Analysis - Text Classification with Universal Embeddings\n",
        "\n",
        "Textual data in spite of being highly unstructured, can be classified into two major types of documents. \n",
        "- __Factual documents__ which typically depict some form of statements or facts with no specific feelings or emotion attached to them. These are also known as objective documents. \n",
        "- __Subjective documents__ on the other hand have text which expresses feelings, mood, emotions and opinion. \n",
        "\n",
        "Sentiment Analysis is also popularly known as opinion analysis or opinion mining. The key idea is to use techniques from text analytics, NLP, machine learning and linguistics to extract important information or data points from unstructured text. This in turn can help us derive the sentiment from text data\n",
        "\n",
        "![](https://github.com/dipanjanS/data_science_for_all/blob/master/tds_deep_transfer_learning_nlp_classification/sentiment_cover.png?raw=1)\n",
        "\n",
        "Here we will be looking at building supervised sentiment analysis classification models thanks to the advantage of labeled data! The dataset we will be working with is the IMDB Large Movie Review Dataset having 50000 reviews classified into positive and negative sentiment. I have provided a compressed version of the dataset in this repository itself for your benefit!\n",
        "\n",
        "Do remember that the focus here is not sentiment analysis but text classification by leveraging universal sentence embeddings.\n",
        "\n",
        "![](https://github.com/dipanjanS/data_science_for_all/blob/master/tds_deep_transfer_learning_nlp_classification/sample_classification.png?raw=1)\n",
        "\n",
        "We will leverage the following sentence encoders here for demonstration from [TensorFlow Hub](https://tfhub.dev/):\n",
        "\n",
        "- [__Neural-Net Language Model (nnlm-en-dim128)__](https://tfhub.dev/google/nnlm-en-dim128/1)\n",
        "- [__Universal Sentence Encoder (universal-sentence-encoder)__](https://tfhub.dev/google/universal-sentence-encoder/2)\n",
        "\n",
        "\n",
        "_Developed by [Dipanjan (DJ) Sarkar](https://www.linkedin.com/in/dipanzan/)_"
      ]
    },
    {
      "cell_type": "markdown",
      "metadata": {
        "id": "JmC9sNNospna"
      },
      "source": [
        "# Install Dependencies"
      ]
    },
    {
      "cell_type": "code",
      "execution_count": 2,
      "metadata": {
        "colab": {
          "base_uri": "https://localhost:8080/"
        },
        "id": "g5SlKKP-spnb",
        "outputId": "f8cb83d9-6f97-4bf5-b4a0-4b25e1e72dfd"
      },
      "outputs": [
        {
          "output_type": "stream",
          "name": "stdout",
          "text": [
            "Requirement already satisfied: tensorflow-hub in /usr/local/lib/python3.7/dist-packages (0.12.0)\n",
            "Requirement already satisfied: numpy>=1.12.0 in /usr/local/lib/python3.7/dist-packages (from tensorflow-hub) (1.19.5)\n",
            "Requirement already satisfied: protobuf>=3.8.0 in /usr/local/lib/python3.7/dist-packages (from tensorflow-hub) (3.17.3)\n",
            "Requirement already satisfied: six>=1.9 in /usr/local/lib/python3.7/dist-packages (from protobuf>=3.8.0->tensorflow-hub) (1.15.0)\n",
            "Collecting textsearch\n",
            "  Downloading textsearch-0.0.21-py2.py3-none-any.whl (7.5 kB)\n",
            "Collecting anyascii\n",
            "  Downloading anyascii-0.3.0-py3-none-any.whl (284 kB)\n",
            "\u001b[K     |████████████████████████████████| 284 kB 11.9 MB/s \n",
            "\u001b[?25hCollecting pyahocorasick\n",
            "  Downloading pyahocorasick-1.4.2.tar.gz (321 kB)\n",
            "\u001b[K     |████████████████████████████████| 321 kB 47.3 MB/s \n",
            "\u001b[?25hBuilding wheels for collected packages: pyahocorasick\n",
            "  Building wheel for pyahocorasick (setup.py) ... \u001b[?25l\u001b[?25hdone\n",
            "  Created wheel for pyahocorasick: filename=pyahocorasick-1.4.2-cp37-cp37m-linux_x86_64.whl size=85444 sha256=3c2a166fab315427fcc40c00eb7307144978116a73b839266ebb0e6864d4f3d5\n",
            "  Stored in directory: /root/.cache/pip/wheels/25/19/a6/8f363d9939162782bb8439d886469756271abc01f76fbd790f\n",
            "Successfully built pyahocorasick\n",
            "Installing collected packages: pyahocorasick, anyascii, textsearch\n",
            "Successfully installed anyascii-0.3.0 pyahocorasick-1.4.2 textsearch-0.0.21\n",
            "Collecting contractions\n",
            "  Downloading contractions-0.0.58-py2.py3-none-any.whl (8.0 kB)\n",
            "Requirement already satisfied: textsearch>=0.0.21 in /usr/local/lib/python3.7/dist-packages (from contractions) (0.0.21)\n",
            "Requirement already satisfied: pyahocorasick in /usr/local/lib/python3.7/dist-packages (from textsearch>=0.0.21->contractions) (1.4.2)\n",
            "Requirement already satisfied: anyascii in /usr/local/lib/python3.7/dist-packages (from textsearch>=0.0.21->contractions) (0.3.0)\n",
            "Installing collected packages: contractions\n",
            "Successfully installed contractions-0.0.58\n",
            "Requirement already satisfied: tqdm in /usr/local/lib/python3.7/dist-packages (4.62.3)\n",
            "[nltk_data] Downloading package punkt to /root/nltk_data...\n",
            "[nltk_data]   Unzipping tokenizers/punkt.zip.\n"
          ]
        },
        {
          "output_type": "execute_result",
          "data": {
            "text/plain": [
              "True"
            ]
          },
          "metadata": {},
          "execution_count": 2
        }
      ],
      "source": [
        "!pip install tensorflow-hub\n",
        "!pip install textsearch\n",
        "!pip install contractions\n",
        "!pip install tqdm\n",
        "import nltk\n",
        "nltk.download('punkt')"
      ]
    },
    {
      "cell_type": "markdown",
      "metadata": {
        "id": "2NNDjY1-spnf"
      },
      "source": [
        "# Load up Dependencies"
      ]
    },
    {
      "cell_type": "code",
      "execution_count": 3,
      "metadata": {
        "id": "SFQVPeVospng"
      },
      "outputs": [],
      "source": [
        "import tensorflow as tf\n",
        "import tensorflow_hub as hub\n",
        "import numpy as np\n",
        "import pandas as pd"
      ]
    },
    {
      "cell_type": "markdown",
      "metadata": {
        "id": "nzziBqXpspnk"
      },
      "source": [
        "# Check if GPU is available for use!"
      ]
    },
    {
      "cell_type": "code",
      "execution_count": 4,
      "metadata": {
        "colab": {
          "base_uri": "https://localhost:8080/"
        },
        "id": "bNaKk-unv8ed",
        "outputId": "8d8748aa-e44d-4dfb-b438-08d890002fbd"
      },
      "outputs": [
        {
          "output_type": "stream",
          "name": "stdout",
          "text": [
            "Wed Dec 29 08:34:52 2021       \n",
            "+-----------------------------------------------------------------------------+\n",
            "| NVIDIA-SMI 495.44       Driver Version: 460.32.03    CUDA Version: 11.2     |\n",
            "|-------------------------------+----------------------+----------------------+\n",
            "| GPU  Name        Persistence-M| Bus-Id        Disp.A | Volatile Uncorr. ECC |\n",
            "| Fan  Temp  Perf  Pwr:Usage/Cap|         Memory-Usage | GPU-Util  Compute M. |\n",
            "|                               |                      |               MIG M. |\n",
            "|===============================+======================+======================|\n",
            "|   0  Tesla K80           Off  | 00000000:00:04.0 Off |                    0 |\n",
            "| N/A   32C    P8    27W / 149W |      0MiB / 11441MiB |      0%      Default |\n",
            "|                               |                      |                  N/A |\n",
            "+-------------------------------+----------------------+----------------------+\n",
            "                                                                               \n",
            "+-----------------------------------------------------------------------------+\n",
            "| Processes:                                                                  |\n",
            "|  GPU   GI   CI        PID   Type   Process name                  GPU Memory |\n",
            "|        ID   ID                                                   Usage      |\n",
            "|=============================================================================|\n",
            "|  No running processes found                                                 |\n",
            "+-----------------------------------------------------------------------------+\n"
          ]
        }
      ],
      "source": [
        "!nvidia-smi"
      ]
    },
    {
      "cell_type": "code",
      "execution_count": 5,
      "metadata": {
        "colab": {
          "base_uri": "https://localhost:8080/"
        },
        "id": "VGjnHgqCspnk",
        "outputId": "d42752c6-6a3e-4db7-8acc-c276d10f7fc1"
      },
      "outputs": [
        {
          "output_type": "stream",
          "name": "stdout",
          "text": [
            "WARNING:tensorflow:From <ipython-input-5-17bb7203622b>:1: is_gpu_available (from tensorflow.python.framework.test_util) is deprecated and will be removed in a future version.\n",
            "Instructions for updating:\n",
            "Use `tf.config.list_physical_devices('GPU')` instead.\n"
          ]
        },
        {
          "output_type": "execute_result",
          "data": {
            "text/plain": [
              "True"
            ]
          },
          "metadata": {},
          "execution_count": 5
        }
      ],
      "source": [
        "tf.test.is_gpu_available()"
      ]
    },
    {
      "cell_type": "code",
      "execution_count": null,
      "metadata": {
        "colab": {
          "base_uri": "https://localhost:8080/",
          "height": 34
        },
        "id": "pW1nVGWYspnn",
        "outputId": "714eacfc-48e2-4dc1-a90e-cd8b892544ea"
      },
      "outputs": [
        {
          "data": {
            "text/plain": [
              "'/device:GPU:0'"
            ]
          },
          "execution_count": 5,
          "metadata": {
            "tags": []
          },
          "output_type": "execute_result"
        }
      ],
      "source": [
        "tf.test.gpu_device_name()"
      ]
    },
    {
      "cell_type": "markdown",
      "metadata": {
        "id": "mFwVuyPqspnp"
      },
      "source": [
        "# Load and View Dataset"
      ]
    },
    {
      "cell_type": "code",
      "execution_count": 6,
      "metadata": {
        "colab": {
          "base_uri": "https://localhost:8080/"
        },
        "id": "QTTHd5BOspnq",
        "outputId": "d8f5c220-be29-4b67-80ee-87ed37b9a6c5"
      },
      "outputs": [
        {
          "output_type": "stream",
          "name": "stdout",
          "text": [
            "<class 'pandas.core.frame.DataFrame'>\n",
            "RangeIndex: 50000 entries, 0 to 49999\n",
            "Data columns (total 2 columns):\n",
            " #   Column     Non-Null Count  Dtype \n",
            "---  ------     --------------  ----- \n",
            " 0   review     50000 non-null  object\n",
            " 1   sentiment  50000 non-null  object\n",
            "dtypes: object(2)\n",
            "memory usage: 781.4+ KB\n"
          ]
        }
      ],
      "source": [
        "dataset = pd.read_csv('https://github.com/dipanjanS/nlp_workshop_dhs18/raw/master/Unit%2011%20-%20Sentiment%20Analysis%20-%20Unsupervised%20Learning/movie_reviews.csv.bz2', compression='bz2')\n",
        "dataset.info()"
      ]
    },
    {
      "cell_type": "code",
      "execution_count": 7,
      "metadata": {
        "colab": {
          "base_uri": "https://localhost:8080/",
          "height": 206
        },
        "id": "hDS51g-cspns",
        "outputId": "717ebee4-94d1-4d2a-9d74-409fe78dc03b"
      },
      "outputs": [
        {
          "output_type": "execute_result",
          "data": {
            "text/html": [
              "\n",
              "  <div id=\"df-6a72676b-8d42-42f8-885f-47493f46917c\">\n",
              "    <div class=\"colab-df-container\">\n",
              "      <div>\n",
              "<style scoped>\n",
              "    .dataframe tbody tr th:only-of-type {\n",
              "        vertical-align: middle;\n",
              "    }\n",
              "\n",
              "    .dataframe tbody tr th {\n",
              "        vertical-align: top;\n",
              "    }\n",
              "\n",
              "    .dataframe thead th {\n",
              "        text-align: right;\n",
              "    }\n",
              "</style>\n",
              "<table border=\"1\" class=\"dataframe\">\n",
              "  <thead>\n",
              "    <tr style=\"text-align: right;\">\n",
              "      <th></th>\n",
              "      <th>review</th>\n",
              "      <th>sentiment</th>\n",
              "    </tr>\n",
              "  </thead>\n",
              "  <tbody>\n",
              "    <tr>\n",
              "      <th>0</th>\n",
              "      <td>One of the other reviewers has mentioned that ...</td>\n",
              "      <td>1</td>\n",
              "    </tr>\n",
              "    <tr>\n",
              "      <th>1</th>\n",
              "      <td>A wonderful little production. &lt;br /&gt;&lt;br /&gt;The...</td>\n",
              "      <td>1</td>\n",
              "    </tr>\n",
              "    <tr>\n",
              "      <th>2</th>\n",
              "      <td>I thought this was a wonderful way to spend ti...</td>\n",
              "      <td>1</td>\n",
              "    </tr>\n",
              "    <tr>\n",
              "      <th>3</th>\n",
              "      <td>Basically there's a family where a little boy ...</td>\n",
              "      <td>0</td>\n",
              "    </tr>\n",
              "    <tr>\n",
              "      <th>4</th>\n",
              "      <td>Petter Mattei's \"Love in the Time of Money\" is...</td>\n",
              "      <td>1</td>\n",
              "    </tr>\n",
              "  </tbody>\n",
              "</table>\n",
              "</div>\n",
              "      <button class=\"colab-df-convert\" onclick=\"convertToInteractive('df-6a72676b-8d42-42f8-885f-47493f46917c')\"\n",
              "              title=\"Convert this dataframe to an interactive table.\"\n",
              "              style=\"display:none;\">\n",
              "        \n",
              "  <svg xmlns=\"http://www.w3.org/2000/svg\" height=\"24px\"viewBox=\"0 0 24 24\"\n",
              "       width=\"24px\">\n",
              "    <path d=\"M0 0h24v24H0V0z\" fill=\"none\"/>\n",
              "    <path d=\"M18.56 5.44l.94 2.06.94-2.06 2.06-.94-2.06-.94-.94-2.06-.94 2.06-2.06.94zm-11 1L8.5 8.5l.94-2.06 2.06-.94-2.06-.94L8.5 2.5l-.94 2.06-2.06.94zm10 10l.94 2.06.94-2.06 2.06-.94-2.06-.94-.94-2.06-.94 2.06-2.06.94z\"/><path d=\"M17.41 7.96l-1.37-1.37c-.4-.4-.92-.59-1.43-.59-.52 0-1.04.2-1.43.59L10.3 9.45l-7.72 7.72c-.78.78-.78 2.05 0 2.83L4 21.41c.39.39.9.59 1.41.59.51 0 1.02-.2 1.41-.59l7.78-7.78 2.81-2.81c.8-.78.8-2.07 0-2.86zM5.41 20L4 18.59l7.72-7.72 1.47 1.35L5.41 20z\"/>\n",
              "  </svg>\n",
              "      </button>\n",
              "      \n",
              "  <style>\n",
              "    .colab-df-container {\n",
              "      display:flex;\n",
              "      flex-wrap:wrap;\n",
              "      gap: 12px;\n",
              "    }\n",
              "\n",
              "    .colab-df-convert {\n",
              "      background-color: #E8F0FE;\n",
              "      border: none;\n",
              "      border-radius: 50%;\n",
              "      cursor: pointer;\n",
              "      display: none;\n",
              "      fill: #1967D2;\n",
              "      height: 32px;\n",
              "      padding: 0 0 0 0;\n",
              "      width: 32px;\n",
              "    }\n",
              "\n",
              "    .colab-df-convert:hover {\n",
              "      background-color: #E2EBFA;\n",
              "      box-shadow: 0px 1px 2px rgba(60, 64, 67, 0.3), 0px 1px 3px 1px rgba(60, 64, 67, 0.15);\n",
              "      fill: #174EA6;\n",
              "    }\n",
              "\n",
              "    [theme=dark] .colab-df-convert {\n",
              "      background-color: #3B4455;\n",
              "      fill: #D2E3FC;\n",
              "    }\n",
              "\n",
              "    [theme=dark] .colab-df-convert:hover {\n",
              "      background-color: #434B5C;\n",
              "      box-shadow: 0px 1px 3px 1px rgba(0, 0, 0, 0.15);\n",
              "      filter: drop-shadow(0px 1px 2px rgba(0, 0, 0, 0.3));\n",
              "      fill: #FFFFFF;\n",
              "    }\n",
              "  </style>\n",
              "\n",
              "      <script>\n",
              "        const buttonEl =\n",
              "          document.querySelector('#df-6a72676b-8d42-42f8-885f-47493f46917c button.colab-df-convert');\n",
              "        buttonEl.style.display =\n",
              "          google.colab.kernel.accessAllowed ? 'block' : 'none';\n",
              "\n",
              "        async function convertToInteractive(key) {\n",
              "          const element = document.querySelector('#df-6a72676b-8d42-42f8-885f-47493f46917c');\n",
              "          const dataTable =\n",
              "            await google.colab.kernel.invokeFunction('convertToInteractive',\n",
              "                                                     [key], {});\n",
              "          if (!dataTable) return;\n",
              "\n",
              "          const docLinkHtml = 'Like what you see? Visit the ' +\n",
              "            '<a target=\"_blank\" href=https://colab.research.google.com/notebooks/data_table.ipynb>data table notebook</a>'\n",
              "            + ' to learn more about interactive tables.';\n",
              "          element.innerHTML = '';\n",
              "          dataTable['output_type'] = 'display_data';\n",
              "          await google.colab.output.renderOutput(dataTable, element);\n",
              "          const docLink = document.createElement('div');\n",
              "          docLink.innerHTML = docLinkHtml;\n",
              "          element.appendChild(docLink);\n",
              "        }\n",
              "      </script>\n",
              "    </div>\n",
              "  </div>\n",
              "  "
            ],
            "text/plain": [
              "                                              review  sentiment\n",
              "0  One of the other reviewers has mentioned that ...          1\n",
              "1  A wonderful little production. <br /><br />The...          1\n",
              "2  I thought this was a wonderful way to spend ti...          1\n",
              "3  Basically there's a family where a little boy ...          0\n",
              "4  Petter Mattei's \"Love in the Time of Money\" is...          1"
            ]
          },
          "metadata": {},
          "execution_count": 7
        }
      ],
      "source": [
        "dataset['sentiment'] = [1 if sentiment == 'positive' else 0 for sentiment in dataset['sentiment'].values]\n",
        "dataset.head()"
      ]
    },
    {
      "cell_type": "markdown",
      "metadata": {
        "id": "FxT7a8CVspnu"
      },
      "source": [
        "# Build train, validation and test datasets"
      ]
    },
    {
      "cell_type": "code",
      "execution_count": 8,
      "metadata": {
        "colab": {
          "base_uri": "https://localhost:8080/"
        },
        "id": "ArDCnIhDspnv",
        "outputId": "f7396876-5906-4ff2-a00e-8ac150e95177"
      },
      "outputs": [
        {
          "output_type": "execute_result",
          "data": {
            "text/plain": [
              "((31500,), (3500,), (15000,))"
            ]
          },
          "metadata": {},
          "execution_count": 8
        }
      ],
      "source": [
        "reviews = dataset['review'].values\n",
        "sentiments = dataset['sentiment'].values\n",
        "\n",
        "train_reviews = reviews[:31500]\n",
        "train_sentiments = sentiments[:31500]\n",
        "\n",
        "val_reviews = reviews[31500:35000]\n",
        "val_sentiments = sentiments[31500:35000]\n",
        "\n",
        "test_reviews = reviews[35000:]\n",
        "test_sentiments = sentiments[35000:]\n",
        "train_reviews.shape, val_reviews.shape, test_reviews.shape"
      ]
    },
    {
      "cell_type": "markdown",
      "metadata": {
        "id": "5m02W9r3spny"
      },
      "source": [
        "# Basic Text Wrangling"
      ]
    },
    {
      "cell_type": "code",
      "execution_count": 9,
      "metadata": {
        "id": "ntKofadzspn3"
      },
      "outputs": [],
      "source": [
        "import contractions\n",
        "from bs4 import BeautifulSoup\n",
        "import numpy as np\n",
        "import re\n",
        "import tqdm\n",
        "import unicodedata\n",
        "\n",
        "\n",
        "def strip_html_tags(text):\n",
        "  soup = BeautifulSoup(text, \"html.parser\")\n",
        "  [s.extract() for s in soup(['iframe', 'script'])]\n",
        "  stripped_text = soup.get_text()\n",
        "  stripped_text = re.sub(r'[\\r|\\n|\\r\\n]+', '\\n', stripped_text)\n",
        "  return stripped_text\n",
        "\n",
        "def remove_accented_chars(text):\n",
        "  text = unicodedata.normalize('NFKD', text).encode('ascii', 'ignore').decode('utf-8', 'ignore')\n",
        "  return text\n",
        "\n",
        "def pre_process_corpus(docs):\n",
        "  norm_docs = []\n",
        "  for doc in tqdm.tqdm(docs):\n",
        "    doc = strip_html_tags(doc)\n",
        "    doc = doc.translate(doc.maketrans(\"\\n\\t\\r\", \"   \"))\n",
        "    doc = doc.lower()\n",
        "    doc = remove_accented_chars(doc)\n",
        "    doc = contractions.fix(doc)\n",
        "    # lower case and remove special characters\\whitespaces\n",
        "    doc = re.sub(r'[^a-zA-Z0-9\\s]', '', doc, re.I|re.A)\n",
        "    doc = re.sub(' +', ' ', doc)\n",
        "    doc = doc.strip()  \n",
        "    norm_docs.append(doc)\n",
        "  \n",
        "  return norm_docs"
      ]
    },
    {
      "cell_type": "code",
      "execution_count": 10,
      "metadata": {
        "colab": {
          "base_uri": "https://localhost:8080/"
        },
        "id": "pF-YWuSNspn6",
        "outputId": "04bfabcc-0de8-4c31-d2a9-b3e5c08cd8d1"
      },
      "outputs": [
        {
          "output_type": "stream",
          "name": "stderr",
          "text": [
            "100%|██████████| 31500/31500 [00:17<00:00, 1822.68it/s]\n",
            "100%|██████████| 3500/3500 [00:01<00:00, 1820.58it/s]\n",
            "100%|██████████| 15000/15000 [00:08<00:00, 1799.64it/s]\n"
          ]
        }
      ],
      "source": [
        "train_reviews = np.array(pre_process_corpus(train_reviews))\n",
        "val_reviews = np.array(pre_process_corpus(val_reviews))\n",
        "test_reviews = np.array(pre_process_corpus(test_reviews))"
      ]
    },
    {
      "cell_type": "markdown",
      "metadata": {
        "id": "6_-U3hLbspn8"
      },
      "source": [
        "# Build Data Ingestion Functions"
      ]
    },
    {
      "cell_type": "code",
      "execution_count": 12,
      "metadata": {
        "id": "amODDXBNspn9"
      },
      "outputs": [],
      "source": [
        "# Training input on the whole training set with no limit on training epochs.\n",
        "train_input_fn = tf.compat.v1.estimator.inputs.numpy_input_fn(\n",
        "    {'sentence': train_reviews}, train_sentiments, \n",
        "    batch_size=256, num_epochs=None, shuffle=True)"
      ]
    },
    {
      "cell_type": "code",
      "execution_count": 13,
      "metadata": {
        "id": "70D9Tyqyspn_"
      },
      "outputs": [],
      "source": [
        "# Prediction on the whole training set.\n",
        "predict_train_input_fn = tf.compat.v1.estimator.inputs.numpy_input_fn(\n",
        "    {'sentence': train_reviews}, train_sentiments, shuffle=False)"
      ]
    },
    {
      "cell_type": "code",
      "execution_count": 14,
      "metadata": {
        "id": "4l8sOR7_spoB"
      },
      "outputs": [],
      "source": [
        "# Prediction on the whole validation set.\n",
        "predict_val_input_fn = tf.compat.v1.estimator.inputs.numpy_input_fn(\n",
        "    {'sentence': val_reviews}, val_sentiments, shuffle=False)"
      ]
    },
    {
      "cell_type": "code",
      "execution_count": 15,
      "metadata": {
        "id": "mYF_O8L5spoD"
      },
      "outputs": [],
      "source": [
        "# Prediction on the test set.\n",
        "predict_test_input_fn = tf.compat.v1.estimator.inputs.numpy_input_fn(\n",
        "    {'sentence': test_reviews}, test_sentiments, shuffle=False)"
      ]
    },
    {
      "cell_type": "markdown",
      "metadata": {
        "id": "B7_zWjMyspoF"
      },
      "source": [
        "# Build Deep Learning Model with Universal Sentence Encoder"
      ]
    },
    {
      "cell_type": "code",
      "execution_count": 19,
      "metadata": {
        "id": "leAUadS-spoG"
      },
      "outputs": [],
      "source": [
        "embedding_feature = hub.text_embedding_column(\n",
        "    key='sentence', \n",
        "    module_spec=\"https://tfhub.dev/google/universal-sentence-encoder/2\",\n",
        "    trainable=False)"
      ]
    },
    {
      "cell_type": "code",
      "execution_count": 21,
      "metadata": {
        "colab": {
          "base_uri": "https://localhost:8080/"
        },
        "id": "ph3IkQTHspoI",
        "outputId": "db90a463-962e-4b5c-dd75-839b9aa5297f"
      },
      "outputs": [
        {
          "output_type": "stream",
          "name": "stdout",
          "text": [
            "INFO:tensorflow:Using default config.\n"
          ]
        },
        {
          "output_type": "stream",
          "name": "stderr",
          "text": [
            "INFO:tensorflow:Using default config.\n"
          ]
        },
        {
          "output_type": "stream",
          "name": "stdout",
          "text": [
            "WARNING:tensorflow:Using temporary folder as model directory: /tmp/tmpkslo8adi\n"
          ]
        },
        {
          "output_type": "stream",
          "name": "stderr",
          "text": [
            "WARNING:tensorflow:Using temporary folder as model directory: /tmp/tmpkslo8adi\n"
          ]
        },
        {
          "output_type": "stream",
          "name": "stdout",
          "text": [
            "INFO:tensorflow:Using config: {'_model_dir': '/tmp/tmpkslo8adi', '_tf_random_seed': None, '_save_summary_steps': 100, '_save_checkpoints_steps': None, '_save_checkpoints_secs': 600, '_session_config': allow_soft_placement: true\n",
            "graph_options {\n",
            "  rewrite_options {\n",
            "    meta_optimizer_iterations: ONE\n",
            "  }\n",
            "}\n",
            ", '_keep_checkpoint_max': 5, '_keep_checkpoint_every_n_hours': 10000, '_log_step_count_steps': 100, '_train_distribute': None, '_device_fn': None, '_protocol': None, '_eval_distribute': None, '_experimental_distribute': None, '_experimental_max_worker_delay_secs': None, '_session_creation_timeout_secs': 7200, '_checkpoint_save_graph_def': True, '_service': None, '_cluster_spec': ClusterSpec({}), '_task_type': 'worker', '_task_id': 0, '_global_id_in_cluster': 0, '_master': '', '_evaluation_master': '', '_is_chief': True, '_num_ps_replicas': 0, '_num_worker_replicas': 1}\n"
          ]
        },
        {
          "output_type": "stream",
          "name": "stderr",
          "text": [
            "INFO:tensorflow:Using config: {'_model_dir': '/tmp/tmpkslo8adi', '_tf_random_seed': None, '_save_summary_steps': 100, '_save_checkpoints_steps': None, '_save_checkpoints_secs': 600, '_session_config': allow_soft_placement: true\n",
            "graph_options {\n",
            "  rewrite_options {\n",
            "    meta_optimizer_iterations: ONE\n",
            "  }\n",
            "}\n",
            ", '_keep_checkpoint_max': 5, '_keep_checkpoint_every_n_hours': 10000, '_log_step_count_steps': 100, '_train_distribute': None, '_device_fn': None, '_protocol': None, '_eval_distribute': None, '_experimental_distribute': None, '_experimental_max_worker_delay_secs': None, '_session_creation_timeout_secs': 7200, '_checkpoint_save_graph_def': True, '_service': None, '_cluster_spec': ClusterSpec({}), '_task_type': 'worker', '_task_id': 0, '_global_id_in_cluster': 0, '_master': '', '_evaluation_master': '', '_is_chief': True, '_num_ps_replicas': 0, '_num_worker_replicas': 1}\n"
          ]
        }
      ],
      "source": [
        "dnn = tf.compat.v1.estimator.DNNClassifier(\n",
        "          hidden_units=[512, 128],\n",
        "          feature_columns=[embedding_feature],\n",
        "          n_classes=2,\n",
        "          activation_fn=tf.compat.v1.nn.relu,\n",
        "          dropout=0.1,\n",
        "          optimizer=tf.compat.v1.train.AdagradOptimizer(learning_rate=0.005))"
      ]
    },
    {
      "cell_type": "markdown",
      "metadata": {
        "id": "nlj8CuR7spoL"
      },
      "source": [
        "### Train for approx 10 epochs"
      ]
    },
    {
      "cell_type": "code",
      "execution_count": 22,
      "metadata": {
        "colab": {
          "base_uri": "https://localhost:8080/"
        },
        "id": "cMG4by2OspoL",
        "outputId": "24e6730d-d00e-4c86-c7ec-30cbb5644161"
      },
      "outputs": [
        {
          "output_type": "execute_result",
          "data": {
            "text/plain": [
              "9.752380952380953"
            ]
          },
          "metadata": {},
          "execution_count": 22
        }
      ],
      "source": [
        "256*1200 / 31500"
      ]
    },
    {
      "cell_type": "markdown",
      "metadata": {
        "id": "EwPac6kuspoQ"
      },
      "source": [
        "# Model Training"
      ]
    },
    {
      "cell_type": "code",
      "execution_count": null,
      "metadata": {
        "colab": {
          "base_uri": "https://localhost:8080/"
        },
        "id": "dK2z9pbXspoR",
        "outputId": "1bd1af82-ef8f-44be-ff58-07e140da1f53"
      },
      "outputs": [
        {
          "output_type": "stream",
          "name": "stdout",
          "text": [
            "\n",
            "----------------------------------------------------------------------------------------------------\n",
            "Training for step: 0 - 300\n",
            "WARNING:tensorflow:From /usr/local/lib/python3.7/dist-packages/tensorflow/python/training/training_util.py:401: Variable.initialized_value (from tensorflow.python.ops.variables) is deprecated and will be removed in a future version.\n",
            "Instructions for updating:\n",
            "Use Variable.read_value. Variables in 2.X are initialized automatically both in eager and graph (inside tf.defun) contexts.\n"
          ]
        },
        {
          "output_type": "stream",
          "name": "stderr",
          "text": [
            "WARNING:tensorflow:From /usr/local/lib/python3.7/dist-packages/tensorflow/python/training/training_util.py:401: Variable.initialized_value (from tensorflow.python.ops.variables) is deprecated and will be removed in a future version.\n",
            "Instructions for updating:\n",
            "Use Variable.read_value. Variables in 2.X are initialized automatically both in eager and graph (inside tf.defun) contexts.\n"
          ]
        },
        {
          "output_type": "stream",
          "name": "stdout",
          "text": [
            "WARNING:tensorflow:From /usr/local/lib/python3.7/dist-packages/tensorflow_estimator/python/estimator/inputs/queues/feeding_queue_runner.py:65: QueueRunner.__init__ (from tensorflow.python.training.queue_runner_impl) is deprecated and will be removed in a future version.\n",
            "Instructions for updating:\n",
            "To construct input pipelines, use the `tf.data` module.\n"
          ]
        },
        {
          "output_type": "stream",
          "name": "stderr",
          "text": [
            "WARNING:tensorflow:From /usr/local/lib/python3.7/dist-packages/tensorflow_estimator/python/estimator/inputs/queues/feeding_queue_runner.py:65: QueueRunner.__init__ (from tensorflow.python.training.queue_runner_impl) is deprecated and will be removed in a future version.\n",
            "Instructions for updating:\n",
            "To construct input pipelines, use the `tf.data` module.\n"
          ]
        },
        {
          "output_type": "stream",
          "name": "stdout",
          "text": [
            "WARNING:tensorflow:From /usr/local/lib/python3.7/dist-packages/tensorflow_estimator/python/estimator/inputs/queues/feeding_functions.py:491: add_queue_runner (from tensorflow.python.training.queue_runner_impl) is deprecated and will be removed in a future version.\n",
            "Instructions for updating:\n",
            "To construct input pipelines, use the `tf.data` module.\n"
          ]
        },
        {
          "output_type": "stream",
          "name": "stderr",
          "text": [
            "WARNING:tensorflow:From /usr/local/lib/python3.7/dist-packages/tensorflow_estimator/python/estimator/inputs/queues/feeding_functions.py:491: add_queue_runner (from tensorflow.python.training.queue_runner_impl) is deprecated and will be removed in a future version.\n",
            "Instructions for updating:\n",
            "To construct input pipelines, use the `tf.data` module.\n"
          ]
        },
        {
          "output_type": "stream",
          "name": "stdout",
          "text": [
            "INFO:tensorflow:Calling model_fn.\n"
          ]
        },
        {
          "output_type": "stream",
          "name": "stderr",
          "text": [
            "INFO:tensorflow:Calling model_fn.\n"
          ]
        },
        {
          "output_type": "stream",
          "name": "stdout",
          "text": [
            "INFO:tensorflow:Saver not created because there are no variables in the graph to restore\n"
          ]
        },
        {
          "output_type": "stream",
          "name": "stderr",
          "text": [
            "INFO:tensorflow:Saver not created because there are no variables in the graph to restore\n"
          ]
        },
        {
          "output_type": "stream",
          "name": "stdout",
          "text": [
            "INFO:tensorflow:Saver not created because there are no variables in the graph to restore\n"
          ]
        },
        {
          "output_type": "stream",
          "name": "stderr",
          "text": [
            "INFO:tensorflow:Saver not created because there are no variables in the graph to restore\n"
          ]
        },
        {
          "output_type": "stream",
          "name": "stdout",
          "text": [
            "WARNING:tensorflow:From /usr/local/lib/python3.7/dist-packages/tensorflow/python/training/adagrad.py:143: calling Constant.__init__ (from tensorflow.python.ops.init_ops) with dtype is deprecated and will be removed in a future version.\n",
            "Instructions for updating:\n",
            "Call initializer instance with the dtype argument instead of passing it to the constructor\n"
          ]
        },
        {
          "output_type": "stream",
          "name": "stderr",
          "text": [
            "WARNING:tensorflow:From /usr/local/lib/python3.7/dist-packages/tensorflow/python/training/adagrad.py:143: calling Constant.__init__ (from tensorflow.python.ops.init_ops) with dtype is deprecated and will be removed in a future version.\n",
            "Instructions for updating:\n",
            "Call initializer instance with the dtype argument instead of passing it to the constructor\n"
          ]
        },
        {
          "output_type": "stream",
          "name": "stdout",
          "text": [
            "INFO:tensorflow:Done calling model_fn.\n"
          ]
        },
        {
          "output_type": "stream",
          "name": "stderr",
          "text": [
            "INFO:tensorflow:Done calling model_fn.\n"
          ]
        },
        {
          "output_type": "stream",
          "name": "stdout",
          "text": [
            "INFO:tensorflow:Create CheckpointSaverHook.\n"
          ]
        },
        {
          "output_type": "stream",
          "name": "stderr",
          "text": [
            "INFO:tensorflow:Create CheckpointSaverHook.\n"
          ]
        },
        {
          "output_type": "stream",
          "name": "stdout",
          "text": [
            "INFO:tensorflow:Graph was finalized.\n"
          ]
        },
        {
          "output_type": "stream",
          "name": "stderr",
          "text": [
            "INFO:tensorflow:Graph was finalized.\n"
          ]
        },
        {
          "output_type": "stream",
          "name": "stdout",
          "text": [
            "INFO:tensorflow:Running local_init_op.\n"
          ]
        },
        {
          "output_type": "stream",
          "name": "stderr",
          "text": [
            "INFO:tensorflow:Running local_init_op.\n"
          ]
        },
        {
          "output_type": "stream",
          "name": "stdout",
          "text": [
            "INFO:tensorflow:Done running local_init_op.\n"
          ]
        },
        {
          "output_type": "stream",
          "name": "stderr",
          "text": [
            "INFO:tensorflow:Done running local_init_op.\n"
          ]
        },
        {
          "output_type": "stream",
          "name": "stdout",
          "text": [
            "WARNING:tensorflow:From /usr/local/lib/python3.7/dist-packages/tensorflow/python/training/monitored_session.py:918: start_queue_runners (from tensorflow.python.training.queue_runner_impl) is deprecated and will be removed in a future version.\n",
            "Instructions for updating:\n",
            "To construct input pipelines, use the `tf.data` module.\n"
          ]
        },
        {
          "output_type": "stream",
          "name": "stderr",
          "text": [
            "WARNING:tensorflow:From /usr/local/lib/python3.7/dist-packages/tensorflow/python/training/monitored_session.py:918: start_queue_runners (from tensorflow.python.training.queue_runner_impl) is deprecated and will be removed in a future version.\n",
            "Instructions for updating:\n",
            "To construct input pipelines, use the `tf.data` module.\n"
          ]
        }
      ],
      "source": [
        "# tf.logging.set_verbosity(tf.logging.ERROR)\n",
        "import time\n",
        "\n",
        "TOTAL_STEPS = 1200\n",
        "STEP_SIZE = 300\n",
        "for step in range(0, TOTAL_STEPS, STEP_SIZE):\n",
        "    print()\n",
        "    print('-'*100)\n",
        "    print('Training for step:', step, '-', step+STEP_SIZE)\n",
        "    start_time = time.time()\n",
        "    dnn.train(input_fn=train_input_fn, steps=STEP_SIZE)\n",
        "    elapsed_time = time.time() - start_time\n",
        "    print('Train Time (s):', elapsed_time)\n",
        "    print('Eval Metrics (Train):', dnn.evaluate(input_fn=predict_train_input_fn))\n",
        "    print('Eval Metrics (Validation):', dnn.evaluate(input_fn=predict_val_input_fn))"
      ]
    },
    {
      "cell_type": "markdown",
      "metadata": {
        "id": "2-5URTl1spoX"
      },
      "source": [
        "# Model Evaluation"
      ]
    },
    {
      "cell_type": "code",
      "execution_count": null,
      "metadata": {
        "colab": {
          "base_uri": "https://localhost:8080/",
          "height": 204
        },
        "id": "zA3fkBEPspoY",
        "outputId": "0ed14cba-dad5-4c90-b5e4-75245bc1e556"
      },
      "outputs": [
        {
          "data": {
            "text/plain": [
              "{'accuracy': 0.8701905,\n",
              " 'accuracy_baseline': 0.500254,\n",
              " 'auc': 0.9446343,\n",
              " 'auc_precision_recall': 0.94429654,\n",
              " 'average_loss': 0.30163872,\n",
              " 'global_step': 1200,\n",
              " 'label/mean': 0.500254,\n",
              " 'loss': 38.468098,\n",
              " 'precision': 0.8660518,\n",
              " 'prediction/mean': 0.5075492,\n",
              " 'recall': 0.8759995}"
            ]
          },
          "execution_count": 19,
          "metadata": {
            "tags": []
          },
          "output_type": "execute_result"
        }
      ],
      "source": [
        "dnn.evaluate(input_fn=predict_train_input_fn)"
      ]
    },
    {
      "cell_type": "code",
      "execution_count": null,
      "metadata": {
        "colab": {
          "base_uri": "https://localhost:8080/",
          "height": 204
        },
        "id": "2ZoSmimDspob",
        "outputId": "147b9f17-e60b-41f0-b2c0-9925a5216ce0"
      },
      "outputs": [
        {
          "data": {
            "text/plain": [
              "{'accuracy': 0.8618,\n",
              " 'accuracy_baseline': 0.5006667,\n",
              " 'auc': 0.9377205,\n",
              " 'auc_precision_recall': 0.9371038,\n",
              " 'average_loss': 0.3193272,\n",
              " 'global_step': 1200,\n",
              " 'label/mean': 0.5006667,\n",
              " 'loss': 40.59244,\n",
              " 'precision': 0.8580271,\n",
              " 'prediction/mean': 0.5092319,\n",
              " 'recall': 0.86750996}"
            ]
          },
          "execution_count": 20,
          "metadata": {
            "tags": []
          },
          "output_type": "execute_result"
        }
      ],
      "source": [
        "dnn.evaluate(input_fn=predict_test_input_fn)"
      ]
    },
    {
      "cell_type": "markdown",
      "metadata": {
        "id": "nIsE9epcspoe"
      },
      "source": [
        "# Build a Generic Model Trainer on any Input Sentence Encoder"
      ]
    },
    {
      "cell_type": "code",
      "execution_count": null,
      "metadata": {
        "id": "YppqihRrspof"
      },
      "outputs": [],
      "source": [
        "import time\n",
        "\n",
        "TOTAL_STEPS = 1200\n",
        "STEP_SIZE = 400\n",
        "\n",
        "my_checkpointing_config = tf.estimator.RunConfig(\n",
        "    keep_checkpoint_max = 1,       # Retain the 2 most recent checkpoints.\n",
        ")\n",
        "\n",
        "def train_and_evaluate_with_sentence_encoder(hub_module, train_module=False, path=''):\n",
        "    embedding_feature = hub.text_embedding_column(\n",
        "        key='sentence', module_spec=hub_module, trainable=train_module)\n",
        "  \n",
        "    print()\n",
        "    print('='*100)\n",
        "    print('Training with', hub_module)\n",
        "    print('Trainable is:', train_module)\n",
        "    print('='*100)\n",
        "  \n",
        "    dnn = tf.estimator.DNNClassifier(\n",
        "            hidden_units=[512, 128],\n",
        "            feature_columns=[embedding_feature],\n",
        "            n_classes=2,\n",
        "            activation_fn=tf.nn.relu,\n",
        "            dropout=0.1,\n",
        "            optimizer=tf.train.AdagradOptimizer(learning_rate=0.005),\n",
        "            model_dir=path,\n",
        "            config=my_checkpointing_config)\n",
        "\n",
        "    for step in range(0, TOTAL_STEPS, STEP_SIZE):\n",
        "        print('-'*100)\n",
        "        print('Training for step:', step, '-', step+STEP_SIZE)\n",
        "        start_time = time.time()\n",
        "        dnn.train(input_fn=train_input_fn, steps=STEP_SIZE)\n",
        "        elapsed_time = time.time() - start_time\n",
        "        print('Train Time (s):', elapsed_time)\n",
        "        print('Eval Metrics (Train):', dnn.evaluate(input_fn=predict_train_input_fn))\n",
        "        print('Eval Metrics (Validation):', dnn.evaluate(input_fn=predict_val_input_fn))\n",
        "\n",
        "    train_eval_result = dnn.evaluate(input_fn=predict_train_input_fn)\n",
        "    test_eval_result = dnn.evaluate(input_fn=predict_test_input_fn)\n",
        "\n",
        "    return {\n",
        "      \"Model Dir\": dnn.model_dir,\n",
        "      \"Training Accuracy\": train_eval_result[\"accuracy\"],\n",
        "      \"Test Accuracy\": test_eval_result[\"accuracy\"],\n",
        "      \"Training AUC\": train_eval_result[\"auc\"],\n",
        "      \"Test AUC\": test_eval_result[\"auc\"],\n",
        "      \"Training Precision\": train_eval_result[\"precision\"],\n",
        "      \"Test Precision\": test_eval_result[\"precision\"],\n",
        "      \"Training Recall\": train_eval_result[\"recall\"],\n",
        "      \"Test Recall\": test_eval_result[\"recall\"]\n",
        "    }"
      ]
    },
    {
      "cell_type": "markdown",
      "metadata": {
        "id": "ic5bEGOvspoh"
      },
      "source": [
        "# Train Deep Learning Models on difference Sentence Encoders\n",
        "- NNLM - pre-trained and fine-tuning\n",
        "- USE - pre-trained and fine-tuning"
      ]
    },
    {
      "cell_type": "code",
      "execution_count": null,
      "metadata": {
        "colab": {
          "base_uri": "https://localhost:8080/",
          "height": 1000
        },
        "id": "tV7YYo6Dspoi",
        "outputId": "c798ac9d-bd33-4d7f-8ecc-d962ccdd3ec3",
        "scrolled": false
      },
      "outputs": [
        {
          "name": "stdout",
          "output_type": "stream",
          "text": [
            "\n",
            "====================================================================================================\n",
            "Training with https://tfhub.dev/google/nnlm-en-dim128/1\n",
            "Trainable is: False\n",
            "====================================================================================================\n",
            "----------------------------------------------------------------------------------------------------\n",
            "Training for step: 0 - 400\n",
            "Train Time (s): 21.549827814102173\n",
            "Eval Metrics (Train): {'accuracy': 0.83533335, 'accuracy_baseline': 0.500254, 'auc': 0.91847336, 'auc_precision_recall': 0.9187026, 'average_loss': 0.3682898, 'label/mean': 0.500254, 'loss': 46.968132, 'precision': 0.8134377, 'prediction/mean': 0.533026, 'recall': 0.8704785, 'global_step': 1600}\n",
            "Eval Metrics (Validation): {'accuracy': 0.8262857, 'accuracy_baseline': 0.50514287, 'auc': 0.9113871, 'auc_precision_recall': 0.90623564, 'average_loss': 0.38510352, 'label/mean': 0.49485713, 'loss': 48.13794, 'precision': 0.79485834, 'prediction/mean': 0.53815943, 'recall': 0.87471133, 'global_step': 1600}\n",
            "----------------------------------------------------------------------------------------------------\n",
            "Training for step: 400 - 800\n",
            "Train Time (s): 21.010958433151245\n",
            "Eval Metrics (Train): {'accuracy': 0.84126985, 'accuracy_baseline': 0.500254, 'auc': 0.92155063, 'auc_precision_recall': 0.921727, 'average_loss': 0.35897514, 'label/mean': 0.500254, 'loss': 45.78023, 'precision': 0.82544774, 'prediction/mean': 0.5239883, 'recall': 0.86578244, 'global_step': 2000}\n",
            "Eval Metrics (Validation): {'accuracy': 0.83, 'accuracy_baseline': 0.50514287, 'auc': 0.91218156, 'auc_precision_recall': 0.90696913, 'average_loss': 0.38052934, 'label/mean': 0.49485713, 'loss': 47.566166, 'precision': 0.80417335, 'prediction/mean': 0.5292703, 'recall': 0.8677829, 'global_step': 2000}\n",
            "----------------------------------------------------------------------------------------------------\n",
            "Training for step: 800 - 1200\n",
            "Train Time (s): 21.976442337036133\n",
            "Eval Metrics (Train): {'accuracy': 0.8445397, 'accuracy_baseline': 0.500254, 'auc': 0.92429334, 'auc_precision_recall': 0.9244299, 'average_loss': 0.35283637, 'label/mean': 0.500254, 'loss': 44.997353, 'precision': 0.86576414, 'prediction/mean': 0.47680077, 'recall': 0.81571263, 'global_step': 2400}\n",
            "Eval Metrics (Validation): {'accuracy': 0.83285713, 'accuracy_baseline': 0.50514287, 'auc': 0.9127308, 'auc_precision_recall': 0.907375, 'average_loss': 0.37565514, 'label/mean': 0.49485713, 'loss': 46.95689, 'precision': 0.84238803, 'prediction/mean': 0.48190394, 'recall': 0.81466514, 'global_step': 2400}\n",
            "\n",
            "====================================================================================================\n",
            "Training with https://tfhub.dev/google/nnlm-en-dim128/1\n",
            "Trainable is: True\n",
            "====================================================================================================\n",
            "----------------------------------------------------------------------------------------------------\n",
            "Training for step: 0 - 400\n",
            "Train Time (s): 39.99162316322327\n",
            "Eval Metrics (Train): {'accuracy': 0.94266665, 'accuracy_baseline': 0.500254, 'auc': 0.98370177, 'auc_precision_recall': 0.98343974, 'average_loss': 0.16388525, 'label/mean': 0.500254, 'loss': 20.900345, 'precision': 0.933723, 'prediction/mean': 0.51125187, 'recall': 0.9530397, 'global_step': 400}\n",
            "Eval Metrics (Validation): {'accuracy': 0.8862857, 'accuracy_baseline': 0.50514287, 'auc': 0.956287, 'auc_precision_recall': 0.9537064, 'average_loss': 0.2752273, 'label/mean': 0.49485713, 'loss': 34.403416, 'precision': 0.8676957, 'prediction/mean': 0.51908183, 'recall': 0.908776, 'global_step': 400}\n",
            "----------------------------------------------------------------------------------------------------\n",
            "Training for step: 400 - 800\n",
            "Train Time (s): 35.01037383079529\n",
            "Eval Metrics (Train): {'accuracy': 0.97803175, 'accuracy_baseline': 0.500254, 'auc': 0.9950171, 'auc_precision_recall': 0.99524945, 'average_loss': 0.081953526, 'label/mean': 0.500254, 'loss': 10.451563, 'precision': 0.9826371, 'prediction/mean': 0.4928307, 'recall': 0.9732834, 'global_step': 800}\n",
            "Eval Metrics (Validation): {'accuracy': 0.886, 'accuracy_baseline': 0.50514287, 'auc': 0.9528524, 'auc_precision_recall': 0.95102644, 'average_loss': 0.3169331, 'label/mean': 0.49485713, 'loss': 39.61664, 'precision': 0.8819484, 'prediction/mean': 0.49787873, 'recall': 0.8885681, 'global_step': 800}\n",
            "----------------------------------------------------------------------------------------------------\n",
            "Training for step: 800 - 1200\n",
            "Train Time (s): 34.30705523490906\n",
            "Eval Metrics (Train): {'accuracy': 0.9927937, 'accuracy_baseline': 0.500254, 'auc': 0.9980438, 'auc_precision_recall': 0.9982524, 'average_loss': 0.040976938, 'label/mean': 0.500254, 'loss': 5.225804, 'precision': 0.9952803, 'prediction/mean': 0.4892676, 'recall': 0.99029064, 'global_step': 1200}\n",
            "Eval Metrics (Validation): {'accuracy': 0.88114285, 'accuracy_baseline': 0.50514287, 'auc': 0.94281477, 'auc_precision_recall': 0.94293344, 'average_loss': 0.4153953, 'label/mean': 0.49485713, 'loss': 51.92441, 'precision': 0.8875147, 'prediction/mean': 0.48467082, 'recall': 0.8700924, 'global_step': 1200}\n",
            "\n",
            "====================================================================================================\n",
            "Training with https://tfhub.dev/google/universal-sentence-encoder/2\n",
            "Trainable is: False\n",
            "====================================================================================================\n",
            "----------------------------------------------------------------------------------------------------\n",
            "Training for step: 0 - 400\n",
            "Train Time (s): 188.44717502593994\n",
            "Eval Metrics (Train): {'accuracy': 0.8545397, 'accuracy_baseline': 0.500254, 'auc': 0.934285, 'auc_precision_recall': 0.933939, 'average_loss': 0.33026537, 'label/mean': 0.500254, 'loss': 42.118862, 'precision': 0.87428, 'prediction/mean': 0.47648036, 'recall': 0.8283412, 'global_step': 400}\n",
            "Eval Metrics (Validation): {'accuracy': 0.8594286, 'accuracy_baseline': 0.50514287, 'auc': 0.9330587, 'auc_precision_recall': 0.9294406, 'average_loss': 0.33031857, 'label/mean': 0.49485713, 'loss': 41.28982, 'precision': 0.86384976, 'prediction/mean': 0.48505744, 'recall': 0.8498845, 'global_step': 400}\n",
            "----------------------------------------------------------------------------------------------------\n",
            "Training for step: 400 - 800\n",
            "Train Time (s): 184.2480628490448\n",
            "Eval Metrics (Train): {'accuracy': 0.864254, 'accuracy_baseline': 0.500254, 'auc': 0.9404822, 'auc_precision_recall': 0.94022906, 'average_loss': 0.31377673, 'label/mean': 0.500254, 'loss': 40.01606, 'precision': 0.87889385, 'prediction/mean': 0.48177347, 'recall': 0.84509456, 'global_step': 800}\n",
            "Eval Metrics (Validation): {'accuracy': 0.8637143, 'accuracy_baseline': 0.50514287, 'auc': 0.936434, 'auc_precision_recall': 0.93294096, 'average_loss': 0.32147512, 'label/mean': 0.49485713, 'loss': 40.18439, 'precision': 0.86419034, 'prediction/mean': 0.49025226, 'recall': 0.8596998, 'global_step': 800}\n",
            "----------------------------------------------------------------------------------------------------\n",
            "Training for step: 800 - 1200\n",
            "Train Time (s): 178.24682593345642\n",
            "Eval Metrics (Train): {'accuracy': 0.87330157, 'accuracy_baseline': 0.500254, 'auc': 0.94630444, 'auc_precision_recall': 0.9459443, 'average_loss': 0.29707164, 'label/mean': 0.500254, 'loss': 37.885654, 'precision': 0.8690797, 'prediction/mean': 0.50695944, 'recall': 0.8791725, 'global_step': 1200}\n",
            "Eval Metrics (Validation): {'accuracy': 0.8674286, 'accuracy_baseline': 0.50514287, 'auc': 0.9391947, 'auc_precision_recall': 0.93573856, 'average_loss': 0.31629628, 'label/mean': 0.49485713, 'loss': 39.537037, 'precision': 0.8495039, 'prediction/mean': 0.51486623, 'recall': 0.8897229, 'global_step': 1200}\n",
            "\n",
            "====================================================================================================\n",
            "Training with https://tfhub.dev/google/universal-sentence-encoder/2\n",
            "Trainable is: True\n",
            "====================================================================================================\n",
            "----------------------------------------------------------------------------------------------------\n",
            "Training for step: 0 - 400\n",
            "Train Time (s): 250.89722275733948\n",
            "Eval Metrics (Train): {'accuracy': 0.9974286, 'accuracy_baseline': 0.500254, 'auc': 0.99925137, 'auc_precision_recall': 0.9992474, 'average_loss': 0.014321436, 'label/mean': 0.500254, 'loss': 1.826418, 'precision': 0.9960134, 'prediction/mean': 0.50321233, 'recall': 0.99885774, 'global_step': 400}\n",
            "Eval Metrics (Validation): {'accuracy': 0.89657146, 'accuracy_baseline': 0.50514287, 'auc': 0.95841694, 'auc_precision_recall': 0.9581809, 'average_loss': 0.37508765, 'label/mean': 0.49485713, 'loss': 46.885956, 'precision': 0.8667024, 'prediction/mean': 0.5300615, 'recall': 0.93475753, 'global_step': 400}\n",
            "----------------------------------------------------------------------------------------------------\n",
            "Training for step: 400 - 800\n",
            "Train Time (s): 241.84795427322388\n",
            "Eval Metrics (Train): {'accuracy': 0.99990475, 'accuracy_baseline': 0.500254, 'auc': 0.99993527, 'auc_precision_recall': 0.99993426, 'average_loss': 0.0009862276, 'label/mean': 0.500254, 'loss': 0.12577398, 'precision': 0.9998731, 'prediction/mean': 0.500083, 'recall': 0.9999365, 'global_step': 800}\n",
            "Eval Metrics (Validation): {'accuracy': 0.90342855, 'accuracy_baseline': 0.50514287, 'auc': 0.9389909, 'auc_precision_recall': 0.9479643, 'average_loss': 0.4993884, 'label/mean': 0.49485713, 'loss': 62.42355, 'precision': 0.90429235, 'prediction/mean': 0.49330398, 'recall': 0.9001155, 'global_step': 800}\n",
            "----------------------------------------------------------------------------------------------------\n",
            "Training for step: 800 - 1200\n",
            "Train Time (s): 241.95906519889832\n",
            "Eval Metrics (Train): {'accuracy': 0.99996823, 'accuracy_baseline': 0.500254, 'auc': 0.99996823, 'auc_precision_recall': 0.9999682, 'average_loss': 0.00033970596, 'label/mean': 0.500254, 'loss': 0.043322824, 'precision': 0.9999365, 'prediction/mean': 0.5002487, 'recall': 1.0, 'global_step': 1200}\n",
            "Eval Metrics (Validation): {'accuracy': 0.90314287, 'accuracy_baseline': 0.50514287, 'auc': 0.9336409, 'auc_precision_recall': 0.943759, 'average_loss': 0.5810413, 'label/mean': 0.49485713, 'loss': 72.630165, 'precision': 0.89461756, 'prediction/mean': 0.50513077, 'recall': 0.9116628, 'global_step': 1200}\n"
          ]
        }
      ],
      "source": [
        "tf.logging.set_verbosity(tf.logging.ERROR)\n",
        "\n",
        "results = {}\n",
        "\n",
        "results[\"nnlm-en-dim128\"] = train_and_evaluate_with_sentence_encoder(\n",
        "    \"https://tfhub.dev/google/nnlm-en-dim128/1\", path='/storage/models/nnlm-en-dim128_fr/')\n",
        "\n",
        "results[\"nnlm-en-dim128-with-training\"] = train_and_evaluate_with_sentence_encoder(\n",
        "    \"https://tfhub.dev/google/nnlm-en-dim128/1\", train_module=True, path='/storage/models/nnlm-en-dim128_ft/')\n",
        "\n",
        "results[\"use-512\"] = train_and_evaluate_with_sentence_encoder(\n",
        "    \"https://tfhub.dev/google/universal-sentence-encoder/2\", path='/storage/models/use-512_fr/')\n",
        "\n",
        "results[\"use-512-with-training\"] = train_and_evaluate_with_sentence_encoder(\n",
        "    \"https://tfhub.dev/google/universal-sentence-encoder/2\", train_module=True, path='/storage/models/use-512_ft/')"
      ]
    },
    {
      "cell_type": "markdown",
      "metadata": {
        "id": "-jng8wafspok"
      },
      "source": [
        "# Model Evaluations"
      ]
    },
    {
      "cell_type": "code",
      "execution_count": null,
      "metadata": {
        "colab": {
          "base_uri": "https://localhost:8080/",
          "height": 224
        },
        "id": "5xUJ_oxGspol",
        "outputId": "e5d58171-b536-4481-bed8-280bb992b545"
      },
      "outputs": [
        {
          "data": {
            "text/html": [
              "<div>\n",
              "<style scoped>\n",
              "    .dataframe tbody tr th:only-of-type {\n",
              "        vertical-align: middle;\n",
              "    }\n",
              "\n",
              "    .dataframe tbody tr th {\n",
              "        vertical-align: top;\n",
              "    }\n",
              "\n",
              "    .dataframe thead th {\n",
              "        text-align: right;\n",
              "    }\n",
              "</style>\n",
              "<table border=\"1\" class=\"dataframe\">\n",
              "  <thead>\n",
              "    <tr style=\"text-align: right;\">\n",
              "      <th></th>\n",
              "      <th>Model Dir</th>\n",
              "      <th>Training Accuracy</th>\n",
              "      <th>Test Accuracy</th>\n",
              "      <th>Training AUC</th>\n",
              "      <th>Test AUC</th>\n",
              "      <th>Training Precision</th>\n",
              "      <th>Test Precision</th>\n",
              "      <th>Training Recall</th>\n",
              "      <th>Test Recall</th>\n",
              "    </tr>\n",
              "  </thead>\n",
              "  <tbody>\n",
              "    <tr>\n",
              "      <th>nnlm-en-dim128</th>\n",
              "      <td>/storage/models/nnlm-en-dim128_fr/</td>\n",
              "      <td>0.844540</td>\n",
              "      <td>0.831667</td>\n",
              "      <td>0.924293</td>\n",
              "      <td>0.913376</td>\n",
              "      <td>0.865764</td>\n",
              "      <td>0.854905</td>\n",
              "      <td>0.815713</td>\n",
              "      <td>0.799467</td>\n",
              "    </tr>\n",
              "    <tr>\n",
              "      <th>nnlm-en-dim128-with-training</th>\n",
              "      <td>/storage/models/nnlm-en-dim128_ft/</td>\n",
              "      <td>0.992794</td>\n",
              "      <td>0.884867</td>\n",
              "      <td>0.998044</td>\n",
              "      <td>0.947936</td>\n",
              "      <td>0.995280</td>\n",
              "      <td>0.902997</td>\n",
              "      <td>0.990291</td>\n",
              "      <td>0.862716</td>\n",
              "    </tr>\n",
              "    <tr>\n",
              "      <th>use-512</th>\n",
              "      <td>/storage/models/use-512_fr/</td>\n",
              "      <td>0.873302</td>\n",
              "      <td>0.864133</td>\n",
              "      <td>0.946304</td>\n",
              "      <td>0.938226</td>\n",
              "      <td>0.869080</td>\n",
              "      <td>0.861236</td>\n",
              "      <td>0.879173</td>\n",
              "      <td>0.868575</td>\n",
              "    </tr>\n",
              "    <tr>\n",
              "      <th>use-512-with-training</th>\n",
              "      <td>/storage/models/use-512_ft/</td>\n",
              "      <td>0.999968</td>\n",
              "      <td>0.906533</td>\n",
              "      <td>0.999968</td>\n",
              "      <td>0.935371</td>\n",
              "      <td>0.999937</td>\n",
              "      <td>0.903648</td>\n",
              "      <td>1.000000</td>\n",
              "      <td>0.910386</td>\n",
              "    </tr>\n",
              "  </tbody>\n",
              "</table>\n",
              "</div>"
            ],
            "text/plain": [
              "                                                       Model Dir  ...  Test Recall\n",
              "nnlm-en-dim128                /storage/models/nnlm-en-dim128_fr/  ...     0.799467\n",
              "nnlm-en-dim128-with-training  /storage/models/nnlm-en-dim128_ft/  ...     0.862716\n",
              "use-512                              /storage/models/use-512_fr/  ...     0.868575\n",
              "use-512-with-training                /storage/models/use-512_ft/  ...     0.910386\n",
              "\n",
              "[4 rows x 9 columns]"
            ]
          },
          "execution_count": 24,
          "metadata": {
            "tags": []
          },
          "output_type": "execute_result"
        }
      ],
      "source": [
        "results_df = pd.DataFrame.from_dict(results, orient=\"index\")\n",
        "results_df"
      ]
    },
    {
      "cell_type": "code",
      "execution_count": null,
      "metadata": {
        "colab": {
          "base_uri": "https://localhost:8080/",
          "height": 34
        },
        "id": "eGmPzbjwspon",
        "outputId": "d3d03398-ce9c-4a65-dfcb-870466f88533"
      },
      "outputs": [
        {
          "data": {
            "text/plain": [
              "'/storage/models/use-512_ft/'"
            ]
          },
          "execution_count": 25,
          "metadata": {
            "tags": []
          },
          "output_type": "execute_result"
        }
      ],
      "source": [
        "best_model_dir = results_df[results_df['Test Accuracy'] == results_df['Test Accuracy'].max()]['Model Dir'].values[0]\n",
        "best_model_dir"
      ]
    },
    {
      "cell_type": "code",
      "execution_count": null,
      "metadata": {
        "colab": {
          "base_uri": "https://localhost:8080/",
          "height": 34
        },
        "id": "BfyA5Kfuspoo",
        "outputId": "13fd39a8-0470-4cb4-f373-2d1c4fc0c800"
      },
      "outputs": [
        {
          "data": {
            "text/plain": [
              "<tensorflow_estimator.python.estimator.canned.dnn.DNNClassifier at 0x7f9ec946acf8>"
            ]
          },
          "execution_count": 26,
          "metadata": {
            "tags": []
          },
          "output_type": "execute_result"
        }
      ],
      "source": [
        "embedding_feature = hub.text_embedding_column(\n",
        "        key='sentence', module_spec=\"https://tfhub.dev/google/universal-sentence-encoder/2\", trainable=True)\n",
        "\n",
        "dnn = tf.estimator.DNNClassifier(\n",
        "            hidden_units=[512, 128],\n",
        "            feature_columns=[embedding_feature],\n",
        "            n_classes=2,\n",
        "            activation_fn=tf.nn.relu,\n",
        "            dropout=0.1,\n",
        "            optimizer=tf.train.AdagradOptimizer(learning_rate=0.005),\n",
        "            model_dir=best_model_dir)\n",
        "dnn"
      ]
    },
    {
      "cell_type": "code",
      "execution_count": null,
      "metadata": {
        "id": "63S2QuVFspor"
      },
      "outputs": [],
      "source": [
        "def get_predictions(estimator, input_fn):\n",
        "    return [x[\"class_ids\"][0] for x in estimator.predict(input_fn=input_fn)]"
      ]
    },
    {
      "cell_type": "code",
      "execution_count": null,
      "metadata": {
        "colab": {
          "base_uri": "https://localhost:8080/",
          "height": 34
        },
        "id": "9RcMcEACspot",
        "outputId": "723d5885-88f7-4058-b931-928cd4893167"
      },
      "outputs": [
        {
          "data": {
            "text/plain": [
              "[0, 1, 0, 1, 1, 0, 1, 1, 1, 1]"
            ]
          },
          "execution_count": 28,
          "metadata": {
            "tags": []
          },
          "output_type": "execute_result"
        }
      ],
      "source": [
        "predictions = get_predictions(estimator=dnn, input_fn=predict_test_input_fn)\n",
        "predictions[:10]"
      ]
    },
    {
      "cell_type": "code",
      "execution_count": null,
      "metadata": {
        "colab": {
          "base_uri": "https://localhost:8080/",
          "height": 221
        },
        "id": "8jMjZH3vspox",
        "outputId": "224b6f30-9e36-4b04-e7b2-8d7d2a349e39"
      },
      "outputs": [
        {
          "name": "stdout",
          "output_type": "stream",
          "text": [
            "Requirement already satisfied: seaborn in /usr/local/lib/python3.6/dist-packages (0.9.0)\n",
            "Requirement already satisfied: pandas>=0.15.2 in /usr/local/lib/python3.6/dist-packages (from seaborn) (0.24.2)\n",
            "Requirement already satisfied: matplotlib>=1.4.3 in /usr/local/lib/python3.6/dist-packages (from seaborn) (3.0.3)\n",
            "Requirement already satisfied: scipy>=0.14.0 in /usr/local/lib/python3.6/dist-packages (from seaborn) (1.3.0)\n",
            "Requirement already satisfied: numpy>=1.9.3 in /usr/local/lib/python3.6/dist-packages (from seaborn) (1.16.4)\n",
            "Requirement already satisfied: python-dateutil>=2.5.0 in /usr/local/lib/python3.6/dist-packages (from pandas>=0.15.2->seaborn) (2.5.3)\n",
            "Requirement already satisfied: pytz>=2011k in /usr/local/lib/python3.6/dist-packages (from pandas>=0.15.2->seaborn) (2018.9)\n",
            "Requirement already satisfied: cycler>=0.10 in /usr/local/lib/python3.6/dist-packages (from matplotlib>=1.4.3->seaborn) (0.10.0)\n",
            "Requirement already satisfied: kiwisolver>=1.0.1 in /usr/local/lib/python3.6/dist-packages (from matplotlib>=1.4.3->seaborn) (1.1.0)\n",
            "Requirement already satisfied: pyparsing!=2.0.4,!=2.1.2,!=2.1.6,>=2.0.1 in /usr/local/lib/python3.6/dist-packages (from matplotlib>=1.4.3->seaborn) (2.4.2)\n",
            "Requirement already satisfied: six>=1.5 in /usr/local/lib/python3.6/dist-packages (from python-dateutil>=2.5.0->pandas>=0.15.2->seaborn) (1.12.0)\n",
            "Requirement already satisfied: setuptools in /usr/local/lib/python3.6/dist-packages (from kiwisolver>=1.0.1->matplotlib>=1.4.3->seaborn) (41.0.1)\n"
          ]
        }
      ],
      "source": [
        "!pip install seaborn"
      ]
    },
    {
      "cell_type": "code",
      "execution_count": null,
      "metadata": {
        "colab": {
          "base_uri": "https://localhost:8080/",
          "height": 283
        },
        "id": "JzoUQdh6spo2",
        "outputId": "fd9d618a-3eaf-454b-e837-85db1d51d9c5"
      },
      "outputs": [
        {
          "data": {
            "image/png": "[encoded data removed]",
            "text/plain": [
              "<Figure size 432x288 with 2 Axes>"
            ]
          },
          "metadata": {
            "tags": []
          },
          "output_type": "display_data"
        }
      ],
      "source": [
        "import seaborn as sns\n",
        "import matplotlib.pyplot as plt\n",
        "\n",
        "%matplotlib inline\n",
        "\n",
        "with tf.Session() as session:\n",
        "    cm = tf.confusion_matrix(test_sentiments, predictions).eval()\n",
        "\n",
        "LABELS = ['negative', 'positive']\n",
        "sns.heatmap(cm, annot=True, xticklabels=LABELS, yticklabels=LABELS, fmt='g')\n",
        "xl = plt.xlabel(\"Predicted\")\n",
        "yl = plt.ylabel(\"Actuals\")"
      ]
    },
    {
      "cell_type": "code",
      "execution_count": null,
      "metadata": {
        "colab": {
          "base_uri": "https://localhost:8080/",
          "height": 170
        },
        "id": "3Xca_U5kspo5",
        "outputId": "b72c8837-1684-49de-99a8-6b1d150ae18b"
      },
      "outputs": [
        {
          "name": "stdout",
          "output_type": "stream",
          "text": [
            "              precision    recall  f1-score   support\n",
            "\n",
            "    negative       0.91      0.90      0.91      7490\n",
            "    positive       0.90      0.91      0.91      7510\n",
            "\n",
            "    accuracy                           0.91     15000\n",
            "   macro avg       0.91      0.91      0.91     15000\n",
            "weighted avg       0.91      0.91      0.91     15000\n",
            "\n"
          ]
        }
      ],
      "source": [
        "from sklearn.metrics import classification_report\n",
        "\n",
        "print(classification_report(y_true=test_sentiments, y_pred=predictions, target_names=LABELS))"
      ]
    }
  ],
  "metadata": {
    "accelerator": "GPU",
    "colab": {
      "collapsed_sections": [],
      "name": "Text Classification - Deep Transfer Learning with Universal Embeddings.ipynb",
      "provenance": [],
      "toc_visible": true
    },
    "kernelspec": {
      "display_name": "Python 3",
      "language": "python",
      "name": "python3"
    },
    "language_info": {
      "codemirror_mode": {
        "name": "ipython",
        "version": 3
      },
      "file_extension": ".py",
      "mimetype": "text/x-python",
      "name": "python",
      "nbconvert_exporter": "python",
      "pygments_lexer": "ipython3",
      "version": "3.6.8"
    }
  },
  "nbformat": 4,
  "nbformat_minor": 0
}